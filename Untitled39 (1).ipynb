{
 "cells": [
  {
   "cell_type": "code",
   "execution_count": 1,
   "id": "49f25529-85da-4cad-aff0-08d4f2125be9",
   "metadata": {},
   "outputs": [
    {
     "name": "stdout",
     "output_type": "stream",
     "text": [
      "Distances from query instance to each training sample: [(203.07880243885623, 'Sedan'), (15.033296378372908, 'Sedan'), (301.0548122850721, 'SUV'), (402.62389397550663, 'Sedan'), (800.7877371688455, 'Truck'), (100.12991560967181, 'SUV'), (400.3011366459006, 'SUV'), (305.08031729365956, 'Sedan')]\n",
      "Nearest neighbors (k=3): [(15.033296378372908, 'Sedan'), (100.12991560967181, 'SUV'), (203.07880243885623, 'Sedan')]\n",
      "Predicted class for the query instance: Sedan\n"
     ]
    }
   ],
   "source": [
    "import numpy as np\n",
    "from collections import Counter\n",
    "\n",
    "# Create a synthetic car dataset\n",
    "car_data = {\n",
    "    'Horsepower': [130, 150, 190, 120, 200, 160, 180, 110],\n",
    "    'Weight': [3000, 3200, 3500, 2800, 4000, 3300, 3600, 2900],\n",
    "    'Fuel Efficiency': [25, 22, 18, 30, 15, 20, 17, 28],\n",
    "    'Car Type': ['Sedan', 'Sedan', 'SUV', 'Sedan', 'Truck', 'SUV', 'SUV', 'Sedan']\n",
    "}\n",
    "\n",
    "# Query instance (features of the new car)\n",
    "query_instance = (165, 3200, 21)  # Horsepower, Weight, Fuel Efficiency\n",
    "\n",
    "# Calculate distances\n",
    "distances = []\n",
    "for i in range(len(car_data['Horsepower'])):\n",
    "    hp, weight, fuel_eff = car_data['Horsepower'][i], car_data['Weight'][i], car_data['Fuel Efficiency'][i]\n",
    "    distance = np.sqrt((query_instance[0] - hp) ** 2 + (query_instance[1] - weight) ** 2 + (query_instance[2] - fuel_eff) ** 2)\n",
    "    distances.append((distance, car_data['Car Type'][i]))\n",
    "\n",
    "# Number of neighbors to consider\n",
    "k = 3\n",
    "\n",
    "# Get the k nearest neighbors\n",
    "nearest_neighbors = sorted(distances)[:k]\n",
    "\n",
    "# Extract the classes of the nearest neighbors\n",
    "neighbor_classes = [neighbor[1] for neighbor in nearest_neighbors]\n",
    "\n",
    "# Predict the class based on majority voting\n",
    "predicted_class = Counter(neighbor_classes).most_common(1)[0][0]\n",
    "\n",
    "# Output results\n",
    "print(\"Distances from query instance to each training sample:\", distances)\n",
    "print(\"Nearest neighbors (k=3):\", nearest_neighbors)\n",
    "print(\"Predicted class for the query instance:\", predicted_class)\n"
   ]
  },
  {
   "cell_type": "code",
   "execution_count": null,
   "id": "3c170e7c-cd11-492e-bac9-28ce958d6ad1",
   "metadata": {},
   "outputs": [],
   "source": []
  }
 ],
 "metadata": {
  "kernelspec": {
   "display_name": "Python 3 (ipykernel)",
   "language": "python",
   "name": "python3"
  },
  "language_info": {
   "codemirror_mode": {
    "name": "ipython",
    "version": 3
   },
   "file_extension": ".py",
   "mimetype": "text/x-python",
   "name": "python",
   "nbconvert_exporter": "python",
   "pygments_lexer": "ipython3",
   "version": "3.11.7"
  }
 },
 "nbformat": 4,
 "nbformat_minor": 5
}
