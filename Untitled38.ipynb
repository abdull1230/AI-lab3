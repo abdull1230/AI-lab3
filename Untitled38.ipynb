{
 "cells": [
  {
   "cell_type": "code",
   "execution_count": 1,
   "id": "ccb6f663-06c9-4b1d-82cb-d7235ee36b4c",
   "metadata": {},
   "outputs": [
    {
     "ename": "IndentationError",
     "evalue": "expected an indented block after 'for' statement on line 19 (1663231215.py, line 21)",
     "output_type": "error",
     "traceback": [
      "\u001b[1;36m  Cell \u001b[1;32mIn[1], line 21\u001b[1;36m\u001b[0m\n\u001b[1;33m    x1, x2 = training_data['X1'][i], training_data['X2'][i]\u001b[0m\n\u001b[1;37m    ^\u001b[0m\n\u001b[1;31mIndentationError\u001b[0m\u001b[1;31m:\u001b[0m expected an indented block after 'for' statement on line 19\n"
     ]
    }
   ],
   "source": [
    "import numpy as np\n",
    "\n",
    "from collections import Counter\n",
    "\n",
    "training_data = {\n",
    "\n",
    "'X1': [7, 7, 3, 1],\n",
    "\n",
    "'X2': [7, 4, 4, 4],\n",
    "\n",
    "'Y': ['Bad', 'Bad', 'Good', 'Good']\n",
    "\n",
    "}\n",
    "\n",
    "query_instance = (3, 7)\n",
    "\n",
    "distances = []\n",
    "\n",
    "for i in range(len(training_data['X1'])):\n",
    "\n",
    "x1, x2 = training_data['X1'][i], training_data['X2'][i]\n",
    "\n",
    "distance = np.sqrt((query_instance[0] - x1) ** 2 + (query_instance[1] - x2) ** 2)\n",
    "\n",
    "distances.append((distance, training_data['Y'][i]))\n",
    "\n",
    "k = 3\n",
    "\n",
    "nearest_neighbors = sorted(distances)[:k]\n",
    "\n",
    "neighbor_classes = [neighbor[1] for neighbor in nearest_neighbors]\n",
    "\n",
    "predicted_class = Counter(neighbor_classes).most_common(1)[0][0]\n",
    "\n",
    "print(\"Distances from query instance to each training sample:\", distances)\n",
    "\n",
    "print(\"Nearest neighbors (k=3):\", nearest_neighbors)\n",
    "\n",
    "print(\"Predicted class for the query instance:\", predicted_class)"
   ]
  },
  {
   "cell_type": "code",
   "execution_count": 2,
   "id": "69b8b22e-f3e4-4191-9c38-5c565e2b5bec",
   "metadata": {},
   "outputs": [
    {
     "name": "stdout",
     "output_type": "stream",
     "text": [
      "Distances from query instance to each training sample: [(4.0, 'Bad'), (5.0, 'Bad'), (3.0, 'Good'), (3.605551275463989, 'Good')]\n",
      "Nearest neighbors (k=3): [(3.0, 'Good'), (3.605551275463989, 'Good'), (4.0, 'Bad')]\n",
      "Predicted class for the query instance: Good\n"
     ]
    }
   ],
   "source": [
    "import numpy as np\n",
    "from collections import Counter\n",
    "\n",
    "# Define the training data\n",
    "training_data = {\n",
    "    'X1': [7, 7, 3, 1],\n",
    "    'X2': [7, 4, 4, 4],\n",
    "    'Y': ['Bad', 'Bad', 'Good', 'Good']\n",
    "}\n",
    "\n",
    "# Query instance\n",
    "query_instance = (3, 7)\n",
    "\n",
    "# Calculate distances\n",
    "distances = []\n",
    "for i in range(len(training_data['X1'])):\n",
    "    x1, x2 = training_data['X1'][i], training_data['X2'][i]\n",
    "    distance = np.sqrt((query_instance[0] - x1) ** 2 + (query_instance[1] - x2) ** 2)\n",
    "    distances.append((distance, training_data['Y'][i]))\n",
    "\n",
    "# Number of neighbors to consider\n",
    "k = 3\n",
    "\n",
    "# Get the k nearest neighbors\n",
    "nearest_neighbors = sorted(distances)[:k]\n",
    "\n",
    "# Extract the classes of the nearest neighbors\n",
    "neighbor_classes = [neighbor[1] for neighbor in nearest_neighbors]\n",
    "\n",
    "# Predict the class based on majority voting\n",
    "predicted_class = Counter(neighbor_classes).most_common(1)[0][0]\n",
    "\n",
    "# Output results\n",
    "print(\"Distances from query instance to each training sample:\", distances)\n",
    "print(\"Nearest neighbors (k=3):\", nearest_neighbors)\n",
    "print(\"Predicted class for the query instance:\", predicted_class)\n"
   ]
  },
  {
   "cell_type": "code",
   "execution_count": null,
   "id": "d28e4387-3ece-482f-85ef-c7be165b4bbf",
   "metadata": {},
   "outputs": [],
   "source": []
  }
 ],
 "metadata": {
  "kernelspec": {
   "display_name": "Python 3 (ipykernel)",
   "language": "python",
   "name": "python3"
  },
  "language_info": {
   "codemirror_mode": {
    "name": "ipython",
    "version": 3
   },
   "file_extension": ".py",
   "mimetype": "text/x-python",
   "name": "python",
   "nbconvert_exporter": "python",
   "pygments_lexer": "ipython3",
   "version": "3.11.7"
  }
 },
 "nbformat": 4,
 "nbformat_minor": 5
}
